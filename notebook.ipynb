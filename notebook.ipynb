{
 "cells": [
  {
   "cell_type": "code",
   "id": "initial_id",
   "metadata": {
    "collapsed": true,
    "ExecuteTime": {
     "end_time": "2025-01-05T07:04:43.109706Z",
     "start_time": "2025-01-05T07:04:42.455084Z"
    }
   },
   "source": "!uv pip install \"dist/python_package_template-0.1.0-py3-none-any.whl\"",
   "outputs": [
    {
     "name": "stdout",
     "output_type": "stream",
     "text": [
      "\u001B[2K\u001B[2mResolved \u001B[1m8 packages\u001B[0m \u001B[2min 53ms\u001B[0m\u001B[0m                                          \u001B[0m\r\n",
      "\u001B[2K\u001B[2mPrepared \u001B[1m1 package\u001B[0m \u001B[2min 24ms\u001B[0m\u001B[0m                                               \r\n",
      "\u001B[2mUninstalled \u001B[1m4 packages\u001B[0m \u001B[2min 205ms\u001B[0m\u001B[0m\r\n",
      "\u001B[2K\u001B[2mInstalled \u001B[1m4 packages\u001B[0m \u001B[2min 34ms\u001B[0m\u001B[0m                                \u001B[0m\r\n",
      " \u001B[31m-\u001B[39m \u001B[1mloguru\u001B[0m\u001B[2m==0.7.3\u001B[0m\r\n",
      " \u001B[32m+\u001B[39m \u001B[1mloguru\u001B[0m\u001B[2m==0.7.2\u001B[0m\r\n",
      " \u001B[31m-\u001B[39m \u001B[1mpydantic\u001B[0m\u001B[2m==2.10.4\u001B[0m\r\n",
      " \u001B[32m+\u001B[39m \u001B[1mpydantic\u001B[0m\u001B[2m==2.9.2\u001B[0m\r\n",
      " \u001B[31m-\u001B[39m \u001B[1mpydantic-core\u001B[0m\u001B[2m==2.27.2\u001B[0m\r\n",
      " \u001B[32m+\u001B[39m \u001B[1mpydantic-core\u001B[0m\u001B[2m==2.23.4\u001B[0m\r\n",
      " \u001B[31m-\u001B[39m \u001B[1mpython-package-template\u001B[0m\u001B[2m==0.1.0 (from file:///Users/aminedjeghri/PycharmProjects/python-package-template)\u001B[0m\r\n",
      " \u001B[32m+\u001B[39m \u001B[1mpython-package-template\u001B[0m\u001B[2m==0.1.0 (from file:///Users/aminedjeghri/PycharmProjects/python-package-template/dist/python_package_template-0.1.0-py3-none-any.whl)\u001B[0m\r\n"
     ]
    }
   ],
   "execution_count": 2
  },
  {
   "metadata": {
    "ExecuteTime": {
     "end_time": "2025-01-05T07:05:38.146538Z",
     "start_time": "2025-01-05T07:05:38.140028Z"
    }
   },
   "cell_type": "code",
   "source": [
    "from python_package_template.example import hello\n",
    "hello()"
   ],
   "id": "5107936f932410a5",
   "outputs": [
    {
     "name": "stderr",
     "output_type": "stream",
     "text": [
      "\u001B[32m2025-01-05 08:05:38.143\u001B[0m | \u001B[1mINFO    \u001B[0m | \u001B[36mpython_package_template.example\u001B[0m:\u001B[36mhello\u001B[0m:\u001B[36m5\u001B[0m - \u001B[1mHello world\u001B[0m\n"
     ]
    }
   ],
   "execution_count": 4
  },
  {
   "metadata": {
    "ExecuteTime": {
     "end_time": "2025-01-05T07:05:41.114986Z",
     "start_time": "2025-01-05T07:05:41.112940Z"
    }
   },
   "cell_type": "code",
   "source": "",
   "id": "ba3978c27bfdd047",
   "outputs": [],
   "execution_count": null
  },
  {
   "metadata": {},
   "cell_type": "code",
   "outputs": [],
   "execution_count": null,
   "source": "",
   "id": "d7cae350886d13e8"
  }
 ],
 "metadata": {
  "kernelspec": {
   "display_name": "Python 3",
   "language": "python",
   "name": "python3"
  },
  "language_info": {
   "codemirror_mode": {
    "name": "ipython",
    "version": 2
   },
   "file_extension": ".py",
   "mimetype": "text/x-python",
   "name": "python",
   "nbconvert_exporter": "python",
   "pygments_lexer": "ipython2",
   "version": "2.7.6"
  }
 },
 "nbformat": 4,
 "nbformat_minor": 5
}
